{
 "cells": [
  {
   "cell_type": "code",
   "execution_count": 1,
   "metadata": {},
   "outputs": [],
   "source": [
    "import re\n",
    "import collections\n",
    "import numpy as np\n",
    "import numpy as np\n",
    "import re\n",
    "import collections\n",
    "import itertools\n",
    "import time\n",
    "from collections import defaultdict\n",
    "from tqdm import tqdm\n",
    "import random"
   ]
  },
  {
   "cell_type": "code",
   "execution_count": null,
   "metadata": {},
   "outputs": [],
   "source": [
    "dic = [\"aa\", \"aaaaaa\", \"aaas\", \"aachen\",\"abatements\",\"abaters\",\"abatic\",\"abatis\",\"abator\",\"abayah\"]"
   ]
  },
  {
   "cell_type": "code",
   "execution_count": null,
   "metadata": {},
   "outputs": [],
   "source": [
    "my_word_idx = np.arange( len( dic ) )"
   ]
  },
  {
   "cell_type": "code",
   "execution_count": null,
   "metadata": {},
   "outputs": [],
   "source": [
    "my_word_idx"
   ]
  },
  {
   "cell_type": "code",
   "execution_count": null,
   "metadata": {},
   "outputs": [],
   "source": [
    "word = \"_ b a _ _ _ \"\n",
    "clean_word = word[::2].replace(\"_\",\".\")"
   ]
  },
  {
   "cell_type": "code",
   "execution_count": null,
   "metadata": {},
   "outputs": [],
   "source": [
    "clean_word"
   ]
  },
  {
   "cell_type": "code",
   "execution_count": null,
   "metadata": {},
   "outputs": [],
   "source": [
    "len_word = len(clean_word)\n",
    "len_word"
   ]
  },
  {
   "cell_type": "code",
   "execution_count": null,
   "metadata": {},
   "outputs": [],
   "source": [
    "new_dictionary = []\n",
    "for dict_word in dic:\n",
    "            # continue if the word is not of the appropriate length\n",
    "            if len(dict_word) != len_word:\n",
    "                continue\n",
    "                \n",
    "            # if dictionary word is a possible match then add it to the current dictionary\n",
    "            if re.match(clean_word,dict_word):\n",
    "                new_dictionary.append(dict_word)"
   ]
  },
  {
   "cell_type": "code",
   "execution_count": null,
   "metadata": {},
   "outputs": [],
   "source": [
    "new_dictionary\n",
    "full_dict_string = \"\".join(new_dictionary)\n",
    "c = collections.Counter(full_dict_string)"
   ]
  },
  {
   "cell_type": "code",
   "execution_count": null,
   "metadata": {},
   "outputs": [],
   "source": [
    "sorted_letter_count = c.most_common()"
   ]
  },
  {
   "cell_type": "code",
   "execution_count": 3,
   "metadata": {},
   "outputs": [],
   "source": [
    "def change_char(s, p, r):\n",
    "\treturn s[:p]+r+s[p+1:]"
   ]
  },
  {
   "cell_type": "code",
   "execution_count": 327,
   "metadata": {},
   "outputs": [],
   "source": [
    "def build_dictionary(dictionary_file_location):\n",
    "        text_file = open(dictionary_file_location,\"r\")\n",
    "        full_dictionary = text_file.read().splitlines()\n",
    "        text_file.close()\n",
    "        return full_dictionary\n",
    "\n",
    "full_dictionary_location = \"words_250000_train.txt\"\n",
    "full_dictionary = build_dictionary(full_dictionary_location)"
   ]
  },
  {
   "cell_type": "code",
   "execution_count": 397,
   "metadata": {},
   "outputs": [],
   "source": [
    "current_dict = full_dictionary\n",
    "guessed_letters = []\n",
    "final_word = random.choice(full_dictionary)\n",
    "#final_word = \"camerashy\"\n",
    "length = len(final_word)\n",
    "errors = 0\n",
    "word = \".\"\n",
    "for i in range(1,length):\n",
    "    word = word + \".\""
   ]
  },
  {
   "cell_type": "code",
   "execution_count": 398,
   "metadata": {},
   "outputs": [],
   "source": [
    "def guess(current_dict, clue, guessed_letters, max_freq_letters = 5):\n",
    "    empty_chars = []\n",
    "    i = 0\n",
    "    for chars in clue:\n",
    "        if chars == '.':\n",
    "            empty_chars.append(i)\n",
    "        i+=1\n",
    "    \n",
    "    clean_word = clue.replace(\"_\",\".\")\n",
    "    # find length of passed word\n",
    "    len_word = len(clean_word)\n",
    "\n",
    "    new_dictionary = []\n",
    "\n",
    "    # iterate through all of the words in the old plausible dictionary\n",
    "    for dict_word in current_dict:\n",
    "            # continue if the word is not of the appropriate length\n",
    "            if len(dict_word) != len_word:\n",
    "                    continue\n",
    "\n",
    "            # if dictionary word is a possible match then add it to the current dictionary\n",
    "            if re.match(clean_word,dict_word):\n",
    "                    new_dictionary.append(dict_word)\n",
    "\n",
    "    full_dict_string = \"\".join(new_dictionary)\n",
    "    c = collections.Counter(full_dict_string)\n",
    "    sorted_letter_count = c.most_common()\n",
    "    \n",
    "    curr_dict = new_dictionary\n",
    "    current_dict = new_dictionary\n",
    "\n",
    "    num_letters = 0\n",
    "    freq_chars = []\n",
    "    for letter, count in sorted_letter_count:\n",
    "        if letter not in guessed_letters:\n",
    "            freq_chars.append(letter)\n",
    "            num_letters += 1\n",
    "            if(num_letters >= max_freq_letters):\n",
    "                break\n",
    "    print(sorted_letter_count)\n",
    "    #print(freq_chars)\n",
    "    IG = np.zeros(len(freq_chars))\n",
    "    i = 0\n",
    "    for char in freq_chars:\n",
    "        for num_reps in range(1, len(empty_chars)+1):\n",
    "            for locs in itertools.combinations(empty_chars, num_reps):\n",
    "                potential_word = clue\n",
    "                for loc in locs:\n",
    "                    potential_word = change_char(potential_word, loc, char)\n",
    "                \n",
    "                potential_word = potential_word[::2].replace(\"_\",\".\")\n",
    "                len_word = len(potential_word)\n",
    "                new_dictionary = []\n",
    "                for dict_word in curr_dict:\n",
    "                    if len(dict_word) != len_word:\n",
    "                        continue\n",
    "                    if re.match(potential_word, dict_word):\n",
    "                        new_dictionary.append(dict_word)\n",
    "                \n",
    "                prob_case = len(new_dictionary)/len(curr_dict)\n",
    "\n",
    "                if prob_case !=0:\n",
    "                    IG[i] -= prob_case*np.log(prob_case)\n",
    "\n",
    "        new_dictionary = []\n",
    "        for dict_word in curr_dict:\n",
    "            if char not in dict_word:\n",
    "                new_dictionary.append(dict_word)\n",
    "\n",
    "        prob_fail = len(new_dictionary)/len(curr_dict)\n",
    "\n",
    "        if prob_fail!=0:\n",
    "            IG[i]/=prob_fail\n",
    "        else:\n",
    "            IG[i] = 10000\n",
    "        \n",
    "        i+=1     \n",
    "\n",
    "    guess_index = np.argmax(IG) # or max see it\n",
    "    guess_char = freq_chars[guess_index]\n",
    "\n",
    "    guessed_letters.append(guess_char)\n",
    "\n",
    "    return guess_char, current_dict"
   ]
  },
  {
   "cell_type": "code",
   "execution_count": 419,
   "metadata": {},
   "outputs": [
    {
     "name": "stdout",
     "output_type": "stream",
     "text": [
      "[('p', 1), ('l', 1), ('a', 1), ('n', 1), ('u', 1), ('r', 1), ('y', 1)]\n",
      "yes finished\n"
     ]
    }
   ],
   "source": [
    "ch, current_dict = guess(current_dict, word, guessed_letters)\n",
    "if ch in final_word:\n",
    "    idx = []\n",
    "    for i in range(0,len(final_word)):\n",
    "        if final_word[i] == ch:\n",
    "            idx.append(i)\n",
    "\n",
    "    for ind in idx:\n",
    "        word = change_char(word, ind, ch)\n",
    "        \n",
    "else:\n",
    "    errors +=1\n",
    "    if(errors >= 6): print(\"done\")\n",
    "\n",
    "if(word == final_word): print(\"yes finished\")"
   ]
  },
  {
   "cell_type": "code",
   "execution_count": 420,
   "metadata": {},
   "outputs": [
    {
     "name": "stdout",
     "output_type": "stream",
     "text": [
      "4 planury planury y 1\n"
     ]
    }
   ],
   "source": [
    "print(errors, word, final_word, ch, len(current_dict))"
   ]
  },
  {
   "cell_type": "code",
   "execution_count": 374,
   "metadata": {},
   "outputs": [
    {
     "data": {
      "text/plain": [
       "['e', 'a', 't', 'n', 'r', 'l', 'b', 'p', 'u']"
      ]
     },
     "execution_count": 374,
     "metadata": {},
     "output_type": "execute_result"
    }
   ],
   "source": [
    "guessed_letters"
   ]
  },
  {
   "cell_type": "code",
   "execution_count": null,
   "metadata": {},
   "outputs": [],
   "source": [
    "# if we have guessed a letter and it is not in the final word, then don't include in new_dict as well"
   ]
  },
  {
   "cell_type": "code",
   "execution_count": 332,
   "metadata": {},
   "outputs": [],
   "source": [
    "clean_word = word.replace(\"_\",\".\")"
   ]
  },
  {
   "cell_type": "code",
   "execution_count": 333,
   "metadata": {},
   "outputs": [
    {
     "data": {
      "text/plain": [
       "'............'"
      ]
     },
     "execution_count": 333,
     "metadata": {},
     "output_type": "execute_result"
    }
   ],
   "source": [
    "clean_word"
   ]
  },
  {
   "cell_type": "code",
   "execution_count": 198,
   "metadata": {},
   "outputs": [],
   "source": [
    "new_dictionary = []\n",
    "len_word = len(word)\n",
    "# iterate through all of the words in the old plausible dictionary\n",
    "for dict_word in full_dictionary:\n",
    "        # continue if the word is not of the appropriate length\n",
    "        if len(dict_word) != len_word:\n",
    "                continue\n",
    "\n",
    "        # if dictionary word is a possible match then add it to the current dictionary\n",
    "        if re.match(word,dict_word):\n",
    "                new_dictionary.append(dict_word)"
   ]
  },
  {
   "cell_type": "code",
   "execution_count": 199,
   "metadata": {},
   "outputs": [
    {
     "data": {
      "text/plain": [
       "['camerashy', 'madegassy', 'makefasts', 'matelasse']"
      ]
     },
     "execution_count": 199,
     "metadata": {},
     "output_type": "execute_result"
    }
   ],
   "source": [
    "new_dictionary"
   ]
  },
  {
   "cell_type": "code",
   "execution_count": null,
   "metadata": {},
   "outputs": [],
   "source": [
    "def build_dictionary(dictionary_file_location):\n",
    "        text_file = open(dictionary_file_location,\"r\")\n",
    "        full_dictionary = text_file.read().splitlines()\n",
    "        text_file.close()\n",
    "        return full_dictionary\n",
    "\n",
    "full_dictionary_location = \"words_250000_train.txt\"\n",
    "full_dictionary = build_dictionary(full_dictionary_location)\n",
    "\n",
    "word = \"a b _ _ _ _ _\"\n",
    "clean_word = word[::2].replace(\"_\",\".\")\n",
    "# find length of passed word\n",
    "len_word = len(clean_word)\n",
    "\n",
    "current_dictionary = full_dictionary\n",
    "new_dictionary = []\n",
    "\n",
    "# iterate through all of the words in the old plausible dictionary\n",
    "for dict_word in full_dictionary:\n",
    "        # continue if the word is not of the appropriate length\n",
    "        if len(dict_word) != len_word:\n",
    "                continue\n",
    "\n",
    "        # if dictionary word is a possible match then add it to the current dictionary\n",
    "        if re.match(clean_word,dict_word):\n",
    "                new_dictionary.append(dict_word)\n",
    "\n",
    "full_dict_string = \"\".join(new_dictionary)\n",
    "c = collections.Counter(full_dict_string)\n",
    "sorted_letter_count = c.most_common()\n",
    "guessed_letters = []\n",
    "guessed_letters.append('a')\n",
    "guessed_letters.append('b')"
   ]
  },
  {
   "cell_type": "code",
   "execution_count": null,
   "metadata": {},
   "outputs": [],
   "source": [
    "error = 0"
   ]
  },
  {
   "cell_type": "code",
   "execution_count": null,
   "metadata": {},
   "outputs": [],
   "source": [
    "error += 1"
   ]
  },
  {
   "cell_type": "code",
   "execution_count": null,
   "metadata": {},
   "outputs": [],
   "source": [
    "error"
   ]
  },
  {
   "cell_type": "code",
   "execution_count": null,
   "metadata": {},
   "outputs": [],
   "source": [
    "max_freq_letters = 5\n",
    "empty_chars = []\n",
    "i = 0\n",
    "clue = \"_ b a _ _ _ \"\n",
    "for chars in clue:\n",
    "    if chars == '_':\n",
    "        empty_chars.append(i)\n",
    "    i+=1\n",
    "num_letters = 0\n",
    "freq_chars = []\n",
    "for letter, count in sorted_letter_count:\n",
    "    if letter in unguessed_letters:\n",
    "        freq_chars.append(letter)\n",
    "        num_letters += 1\n",
    "        if(num_letters >= max_freq_letters):\n",
    "            break\n",
    "\n",
    "num_chars(dict_word, char)"
   ]
  },
  {
   "cell_type": "code",
   "execution_count": null,
   "metadata": {},
   "outputs": [],
   "source": [
    "itertools.combinations(empty_chars, 2)\n",
    "for locs in itertools.combinations(empty_chars, 2):\n",
    "    for loc in locs:\n",
    "        potential_word = change_char(potential_word, loc, char)"
   ]
  }
 ],
 "metadata": {
  "kernelspec": {
   "display_name": "Python 3",
   "language": "python",
   "name": "python3"
  },
  "language_info": {
   "codemirror_mode": {
    "name": "ipython",
    "version": 3
   },
   "file_extension": ".py",
   "mimetype": "text/x-python",
   "name": "python",
   "nbconvert_exporter": "python",
   "pygments_lexer": "ipython3",
   "version": "3.8.10"
  },
  "orig_nbformat": 4
 },
 "nbformat": 4,
 "nbformat_minor": 2
}
